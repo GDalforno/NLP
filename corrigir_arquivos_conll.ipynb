{
 "cells": [
  {
   "cell_type": "markdown",
   "metadata": {
    "id": "Jsc8LPF52Tu5"
   },
   "source": [
    "# Importações"
   ]
  },
  {
   "cell_type": "code",
   "execution_count": 9,
   "metadata": {
    "id": "g8YIIEOvaXNI"
   },
   "outputs": [],
   "source": [
    "#imports\n",
    "import pandas as pd\n",
    "import os"
   ]
  },
  {
   "cell_type": "code",
   "execution_count": 10,
   "metadata": {
    "colab": {
     "base_uri": "https://localhost:8080/"
    },
    "id": "gorK41qQK0Jx",
    "outputId": "e4d239e7-2b97-4177-842a-5e5ebedd1a3b"
   },
   "outputs": [],
   "source": [
    "path = \"./dados-tipos/Comentarios/\"\n",
    "#lista de nomes de arquivos de path_source\n",
    "arquivos = os.listdir(path)\n",
    "\n",
    "#tags e categorias\n",
    "fundamentos = ['-FUNDapelido','-FUNDlei','-FUNDprojetodelei','-FUNDsolicitacaotrabalho']\n",
    "locais = ['-LOCALconcreto', '-LOCALvirtual']\n",
    "orgs = ['-ORGgovernamental', '-ORGpartido', '-ORGnaogovernamental', '-ORGinstituicao', '-ORGprivado']\n",
    "pessoas = ['-PESSOAcargo', '-PESSOAgrupocargo', '-PESSOAgrupoind', '-PESSOAindividual']\n",
    "produtos =  ['-PRODUTOoutros', '-PRODUTOprograma', '-PRODUTOsistema']\n",
    "categorias = {1: '-FUNDAMENTO', 2: '-LOCAL', 3: '-ORGANIZACAO', 4: '-PESSOA', 5: '-PRODUTODELEI', 6: '-XUXA'} #data e evento\n",
    "\n",
    "#\n",
    "erros_join = []\n",
    "erros_org = []\n",
    "erros_abrev = []"
   ]
  },
  {
   "cell_type": "code",
   "execution_count": 11,
   "metadata": {
    "id": "AcNEUYXGJYT4"
   },
   "outputs": [],
   "source": [
    "#juntar categorias\n",
    "def join_save_categorias(arquivo, verbose):        \n",
    "    print(f'  ..JOIN Categorias')  \n",
    "    source = path + arquivo\n",
    "    try:    \n",
    "        with open(source, 'r') as f:\n",
    "              rows = f.readlines()\n",
    "        print(f'    --> Qtde de linhas: {len(rows)}' if verbose==True else '')  \n",
    "        print(f'    --> Susbtituindo categorias...' if verbose==True else '')      \n",
    "        for i in range(len(rows)):    \n",
    "            for fund in fundamentos: \n",
    "                rows[i] = rows[i].replace(fund, categorias[1])\n",
    "                for local in locais: \n",
    "                    rows[i] = rows[i].replace(local, categorias[2])\n",
    "                    for org in orgs: \n",
    "                        rows[i] = rows[i].replace(org, categorias[3])\n",
    "                        for pessoa in pessoas: \n",
    "                            rows[i] = rows[i].replace(pessoa, categorias[4])\n",
    "                            for produto in produtos: \n",
    "                                rows[i] = rows[i].replace(produto, categorias[5])\n",
    "                                if ('-null' or '-NULL') in rows[i]:        \n",
    "                                    print('    Null encontrado')\n",
    "                                    print(rows[i])\n",
    "                                    print('    Substituir por? ', categorias.values())\n",
    "                                    resposta = input()\n",
    "                                    rows[i] = rows[i].replace(produto, categorias[resposta])\n",
    "    \n",
    "        print(f'    --> Salvando arquivo...' if verbose==True else '')      \n",
    "        save = \"./dados-categorias/Comentarios/\"\n",
    "        save = save+arquivo[:-6]+'_joined.conll'\n",
    "        save_f = open(save,'w+')  \n",
    "        save_f.writelines(rows)\n",
    "        save_f.close()\n",
    "        print(f'    --> Finalizado...\\n---\\n' if verbose==True else '')      \n",
    "    except Exception as e:\n",
    "        print('    --> Erro Join: ', str(e))\n",
    "        print()\n",
    "        erros_join.append(arquivo)"
   ]
  },
  {
   "cell_type": "code",
   "execution_count": 12,
   "metadata": {
    "colab": {
     "base_uri": "https://localhost:8080/"
    },
    "id": "oIvnZAMLwuyf",
    "outputId": "4c6a211f-e6ed-4755-af70-0ae7d693fb94"
   },
   "outputs": [
    {
     "name": "stdout",
     "output_type": "stream",
     "text": [
      "qtde de arquivos:  2\n",
      "-->1 - Nome do arquivo: Fase2.conll\n",
      "  ..JOIN Categorias\n",
      "    --> Qtde de linhas: 62525\n",
      "    --> Susbtituindo categorias...\n",
      "    --> Salvando arquivo...\n",
      "    --> Finalizado...\n",
      "---\n",
      "\n",
      "-->2 - Nome do arquivo: Fase1.conll\n",
      "  ..JOIN Categorias\n",
      "    --> Qtde de linhas: 27612\n",
      "    --> Susbtituindo categorias...\n",
      "    --> Salvando arquivo...\n",
      "    --> Finalizado...\n",
      "---\n",
      "\n",
      "------------------------\n",
      "erros_join:  []\n"
     ]
    }
   ],
   "source": [
    "#principal\n",
    "\n",
    "erros_join = []\n",
    "\n",
    "print('qtde de arquivos: ', len(arquivos))\n",
    "i = 1\n",
    "for arquivo in arquivos:\n",
    "    print(f'-->{i} - Nome do arquivo: {arquivo}')  \n",
    "    i +=1\n",
    "    join_save_categorias(arquivo, True)\n",
    "\n",
    "print('------------------------')\n",
    "print('erros_join: ', erros_join)\n"
   ]
  }
 ],
 "metadata": {
  "colab": {
   "collapsed_sections": [],
   "name": "corrigir_arquivos_conll.ipynb",
   "provenance": []
  },
  "kernelspec": {
   "display_name": "Python 3",
   "language": "python",
   "name": "python3"
  },
  "language_info": {
   "codemirror_mode": {
    "name": "ipython",
    "version": 3
   },
   "file_extension": ".py",
   "mimetype": "text/x-python",
   "name": "python",
   "nbconvert_exporter": "python",
   "pygments_lexer": "ipython3",
   "version": "3.8.10"
  }
 },
 "nbformat": 4,
 "nbformat_minor": 4
}
