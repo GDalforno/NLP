{
 "cells": [
  {
   "cell_type": "markdown",
   "metadata": {},
   "source": [
    "# Análise Exploratória do Corpora UlyssesNER-BR (Fases 1 e 2)"
   ]
  },
  {
   "cell_type": "code",
   "execution_count": 105,
   "metadata": {},
   "outputs": [],
   "source": [
    "import operator\n",
    "import os\n",
    "import random\n",
    "import functools\n",
    "import collections\n",
    "import numpy as np\n",
    "import matplotlib.pyplot as plt\n",
    "\n",
    "random.seed(1999)"
   ]
  },
  {
   "cell_type": "code",
   "execution_count": 128,
   "metadata": {},
   "outputs": [],
   "source": [
    "# DIR = \"./dados-categorias/PLs/\"  \n",
    "# DIR = \"./dados-tipos/PLs/\"  \n",
    "# DIR = \"./dados-categorias/STs/\"\n",
    "DIR = \"./dados-tipos/STs/\""
   ]
  },
  {
   "cell_type": "code",
   "execution_count": 129,
   "metadata": {},
   "outputs": [
    {
     "data": {
      "text/plain": [
       "['./dados-tipos/STs/fase1-dia5-dados-conle_corrigido.conll',\n",
       " './dados-tipos/STs/2.conll',\n",
       " './dados-tipos/STs/fase1-dia2-dados-conle_corrigido.conll',\n",
       " './dados-tipos/STs/3.conll',\n",
       " './dados-tipos/STs/1.conll',\n",
       " './dados-tipos/STs/fase1-dia4-dados-conle_corrigido.conll',\n",
       " './dados-tipos/STs/5.conll',\n",
       " './dados-tipos/STs/fase1-dia3-dados-conle_corrigido.conll',\n",
       " './dados-tipos/STs/fase1-dia1-dados-conle_corrigido.conll',\n",
       " './dados-tipos/STs/4.conll']"
      ]
     },
     "execution_count": 129,
     "metadata": {},
     "output_type": "execute_result"
    }
   ],
   "source": [
    "all_files = [DIR+f for f in os.listdir(DIR)]  # Lista todos os arquivos do \"DIR\"\n",
    "all_files[:10]"
   ]
  },
  {
   "cell_type": "code",
   "execution_count": 130,
   "metadata": {},
   "outputs": [],
   "source": [
    "def process_conll_file(location:str)->list:\n",
    "    with open(location, \"r\") as f:\n",
    "        data = f.read()\n",
    "    data = data.split(\"\\n\\n\")\n",
    "    data = list(map(lambda x:x.split(\"\\n\"), data))\n",
    "    data.pop()\n",
    "    data = list(map(lambda x:[operator.itemgetter(*[0, -1])(y.split(\" \")) for y in x], data))\n",
    "    return data\n",
    "\n",
    "def combine_files(locations:list)->list:\n",
    "    extended = []\n",
    "    for f in locations:\n",
    "        extended.extend(process_conll_file(f))\n",
    "    return extended"
   ]
  },
  {
   "cell_type": "code",
   "execution_count": 131,
   "metadata": {},
   "outputs": [
    {
     "data": {
      "text/plain": [
       "[[('Solicito', 'O'),\n",
       "  (',', 'O'),\n",
       "  ('parecer', 'O'),\n",
       "  ('pela', 'O'),\n",
       "  ('aprovação', 'O'),\n",
       "  ('na', 'O'),\n",
       "  ('CCJC', 'B-ORGgovernamental'),\n",
       "  (',', 'O'),\n",
       "  ('do', 'O'),\n",
       "  ('PL', 'O'),\n",
       "  ('em', 'O'),\n",
       "  ('questão', 'O'),\n",
       "  (',', 'O'),\n",
       "  ('com', 'O'),\n",
       "  ('urgência', 'O'),\n",
       "  ('.', 'O'),\n",
       "  (',', 'O'),\n",
       "  (',', 'O'),\n",
       "  (',', 'O'),\n",
       "  (',', 'O'),\n",
       "  (',', 'O'),\n",
       "  (',', 'O'),\n",
       "  (',', 'O'),\n",
       "  (',', 'O'),\n",
       "  (',', 'O'),\n",
       "  (',', 'O'),\n",
       "  (',', 'O'),\n",
       "  (',', 'O'),\n",
       "  (',', 'O'),\n",
       "  (',', 'O'),\n",
       "  (',', 'O')],\n",
       " [('Urgente', 'O'),\n",
       "  ('(', 'O'),\n",
       "  ('se', 'O'),\n",
       "  ('possível', 'O'),\n",
       "  ('o', 'O'),\n",
       "  ('atendimento', 'O'),\n",
       "  ('antes', 'O'),\n",
       "  ('do', 'O'),\n",
       "  ('período', 'O'),\n",
       "  ('de', 'O'),\n",
       "  ('recesso', 'O'),\n",
       "  (')', 'O'),\n",
       "  ('Prezados', 'O'),\n",
       "  (',', 'O'),\n",
       "  ('boa', 'O'),\n",
       "  ('tarde', 'O'),\n",
       "  ('!', 'O'),\n",
       "  ('A', 'O'),\n",
       "  ('pedido', 'O'),\n",
       "  ('da', 'O'),\n",
       "  ('deputada', 'B-PESSOAcargo'),\n",
       "  ('_', 'O'),\n",
       "  ('_', 'O'),\n",
       "  ('PARLAMENTAR', 'B-PESSOAcargo'),\n",
       "  ('_', 'O'),\n",
       "  ('_', 'O'),\n",
       "  (',', 'O'),\n",
       "  ('solicito', 'O'),\n",
       "  ('a', 'O'),\n",
       "  ('gentileza', 'O'),\n",
       "  ('de', 'O'),\n",
       "  ('analisar', 'O'),\n",
       "  ('o', 'O'),\n",
       "  ('texto', 'O'),\n",
       "  ('do', 'O'),\n",
       "  ('projeto', 'O'),\n",
       "  ('de', 'O'),\n",
       "  ('lei', 'O'),\n",
       "  ('anexo', 'O'),\n",
       "  (',', 'O'),\n",
       "  ('com', 'O'),\n",
       "  ('o', 'O'),\n",
       "  ('objetivo', 'O'),\n",
       "  ('de', 'O'),\n",
       "  ('aprimorar', 'O'),\n",
       "  ('a', 'O'),\n",
       "  ('técnica', 'O'),\n",
       "  ('legislativa', 'O'),\n",
       "  ('.', 'O'),\n",
       "  ('O', 'O'),\n",
       "  ('projeto', 'O'),\n",
       "  ('de', 'O'),\n",
       "  ('lei', 'O'),\n",
       "  ('em', 'O'),\n",
       "  ('questão', 'O'),\n",
       "  ('diz', 'O'),\n",
       "  ('respeito', 'O'),\n",
       "  ('à', 'O'),\n",
       "  ('redução', 'O'),\n",
       "  ('da', 'O'),\n",
       "  ('alíquota', 'O'),\n",
       "  ('de', 'O'),\n",
       "  ('FGTS', 'B-PRODUTOoutros'),\n",
       "  ('às', 'O'),\n",
       "  ('empresas', 'O'),\n",
       "  ('que', 'O'),\n",
       "  ('contratarem', 'O'),\n",
       "  ('pessoas', 'O'),\n",
       "  ('com', 'O'),\n",
       "  ('50', 'O'),\n",
       "  ('anos', 'O'),\n",
       "  ('ou', 'O'),\n",
       "  ('mais', 'O'),\n",
       "  ('e', 'O'),\n",
       "  (',', 'O'),\n",
       "  ('institui', 'O'),\n",
       "  ('o', 'O'),\n",
       "  ('Selo', 'B-PRODUTOoutros'),\n",
       "  ('Empresa', 'I-PRODUTOoutros'),\n",
       "  ('Parceira', 'I-PRODUTOoutros'),\n",
       "  ('50', 'I-PRODUTOoutros'),\n",
       "  ('+', 'I-PRODUTOoutros'),\n",
       "  ('.', 'O'),\n",
       "  ('Desde', 'O'),\n",
       "  ('já', 'O'),\n",
       "  (',', 'O'),\n",
       "  ('agradeço', 'O'),\n",
       "  ('a', 'O'),\n",
       "  ('atenção', 'O'),\n",
       "  ('dispensada', 'O'),\n",
       "  ('.', 'O'),\n",
       "  ('Atenciosamente', 'O'),\n",
       "  (',', 'O'),\n",
       "  ('_', 'O'),\n",
       "  ('_', 'O'),\n",
       "  ('_', 'O'),\n",
       "  ('_', 'O'),\n",
       "  ('Celular', 'O'),\n",
       "  ('_', 'O'),\n",
       "  ('_', 'O'),\n",
       "  ('_', 'O'),\n",
       "  ('_', 'O'),\n",
       "  ('_', 'O'),\n",
       "  ('_', 'O'),\n",
       "  (',', 'O'),\n",
       "  (',', 'O'),\n",
       "  (',', 'O'),\n",
       "  (',', 'O'),\n",
       "  (',', 'O'),\n",
       "  (',', 'O'),\n",
       "  (',', 'O'),\n",
       "  (',', 'O'),\n",
       "  (',', 'O'),\n",
       "  (',', 'O'),\n",
       "  (',', 'O'),\n",
       "  (',', 'O')],\n",
       " [('tendo', 'O'),\n",
       "  ('em', 'O'),\n",
       "  ('vista', 'O'),\n",
       "  ('as', 'O'),\n",
       "  ('mudanças', 'O'),\n",
       "  ('no', 'O'),\n",
       "  ('art', 'B-FUNDlei'),\n",
       "  ('203', 'I-FUNDlei'),\n",
       "  ('da', 'I-FUNDlei'),\n",
       "  ('CF', 'I-FUNDlei'),\n",
       "  (',', 'O'),\n",
       "  ('na', 'O'),\n",
       "  ('comissão', 'B-ORGgovernamental'),\n",
       "  ('especial', 'I-ORGgovernamental'),\n",
       "  ('da', 'I-ORGgovernamental'),\n",
       "  ('reforma', 'I-ORGgovernamental'),\n",
       "  ('da', 'I-ORGgovernamental'),\n",
       "  ('previdencia', 'I-ORGgovernamental'),\n",
       "  (',', 'O'),\n",
       "  ('gostaria', 'O'),\n",
       "  ('de', 'O'),\n",
       "  ('solicitar', 'O'),\n",
       "  ('minuta', 'O'),\n",
       "  ('de', 'O'),\n",
       "  ('projeto', 'O'),\n",
       "  ('de', 'O'),\n",
       "  ('lei', 'O'),\n",
       "  (',', 'O'),\n",
       "  ('ou', 'O'),\n",
       "  ('projeto', 'O'),\n",
       "  ('de', 'O'),\n",
       "  ('lei', 'O'),\n",
       "  ('complementar', 'O'),\n",
       "  ('que', 'O'),\n",
       "  ('permita', 'O'),\n",
       "  ('a', 'O'),\n",
       "  ('acumulação', 'O'),\n",
       "  ('de', 'O'),\n",
       "  ('2', 'O'),\n",
       "  ('ou', 'O'),\n",
       "  ('mais', 'O'),\n",
       "  ('bpc', 'B-PRODUTOoutros'),\n",
       "  (',', 'O'),\n",
       "  ('em', 'O'),\n",
       "  ('função', 'O'),\n",
       "  ('da', 'O'),\n",
       "  ('condição', 'O'),\n",
       "  ('de', 'O'),\n",
       "  ('miserabilidade', 'O'),\n",
       "  ('.', 'O'),\n",
       "  ('hoje', 'O'),\n",
       "  (',', 'O'),\n",
       "  ('o', 'O'),\n",
       "  ('bpc', 'B-PRODUTOoutros'),\n",
       "  ('entra', 'O'),\n",
       "  ('no', 'O'),\n",
       "  ('computo', 'O'),\n",
       "  ('da', 'O'),\n",
       "  ('renda', 'O'),\n",
       "  ('familiar', 'O'),\n",
       "  ('per', 'O'),\n",
       "  ('capita', 'O'),\n",
       "  (',', 'O'),\n",
       "  ('impedindo', 'O'),\n",
       "  ('a', 'O'),\n",
       "  ('acumulação', 'O'),\n",
       "  ('de', 'O'),\n",
       "  ('mais', 'O'),\n",
       "  ('de', 'O'),\n",
       "  ('um', 'O'),\n",
       "  ('benefício', 'O'),\n",
       "  ('.', 'O'),\n",
       "  (',', 'O'),\n",
       "  (',', 'O'),\n",
       "  (',', 'O'),\n",
       "  (',', 'O'),\n",
       "  (',', 'O'),\n",
       "  (',', 'O'),\n",
       "  (',', 'O'),\n",
       "  (',', 'O'),\n",
       "  (',', 'O'),\n",
       "  (',', 'O'),\n",
       "  (',', 'O'),\n",
       "  (',', 'O')]]"
      ]
     },
     "execution_count": 131,
     "metadata": {},
     "output_type": "execute_result"
    }
   ],
   "source": [
    "# process_conll_file transforma o arquivo .conll na estrutura de lista como abaixo\n",
    "process_conll_file(all_files[0])[:3]"
   ]
  },
  {
   "cell_type": "code",
   "execution_count": 132,
   "metadata": {},
   "outputs": [],
   "source": [
    "# combine_files aplica a função process_conll_file para todos arquivos na lista all_files\n",
    "all_data = combine_files(all_files)\n",
    "random.shuffle(all_data)"
   ]
  },
  {
   "cell_type": "code",
   "execution_count": 133,
   "metadata": {},
   "outputs": [],
   "source": [
    "def to_list(data:list)->list:\n",
    "    return functools.reduce(operator.iconcat, data, [])\n",
    "\n",
    "def split_words_n_tags(data:list)->tuple:\n",
    "    words, tags = map(list, zip(*data))\n",
    "    return words, tags"
   ]
  },
  {
   "cell_type": "code",
   "execution_count": 134,
   "metadata": {},
   "outputs": [
    {
     "name": "stdout",
     "output_type": "stream",
     "text": [
      "[[('O', 'X'), ('Cachorro', 'Y')], [('O', 'X'), ('Gato', 'Y')]]\n",
      "[('O', 'X'), ('Cachorro', 'Y'), ('O', 'X'), ('Gato', 'Y')]\n"
     ]
    }
   ],
   "source": [
    "# to_list remove a hierarquia das sentenças, ou seja, os tokens tornam-se independentes um do outro\n",
    "exemplo = [[(\"O\", \"X\"), (\"Cachorro\", \"Y\")], [(\"O\", \"X\"), (\"Gato\", \"Y\")]]\n",
    "print(exemplo)\n",
    "print(to_list(exemplo))"
   ]
  },
  {
   "cell_type": "code",
   "execution_count": 135,
   "metadata": {},
   "outputs": [
    {
     "name": "stdout",
     "output_type": "stream",
     "text": [
      "(['O', 'Cachorro', 'O', 'Gato'], ['X', 'Y', 'X', 'Y'])\n"
     ]
    }
   ],
   "source": [
    "# split_words_n_tags retorna duas listas: Uma contendo todos os tokens do dataset e outra contendo \n",
    "#  suas respectivas tags respeitando a ordem.\n",
    "print(split_words_n_tags(to_list(exemplo)))"
   ]
  },
  {
   "cell_type": "markdown",
   "metadata": {},
   "source": [
    "## Estatísticas"
   ]
  },
  {
   "cell_type": "code",
   "execution_count": 136,
   "metadata": {},
   "outputs": [
    {
     "data": {
      "text/plain": [
       "'Número Total de Sentenças: 790'"
      ]
     },
     "execution_count": 136,
     "metadata": {},
     "output_type": "execute_result"
    }
   ],
   "source": [
    "f\"Número Total de Sentenças: {len(all_data)}\""
   ]
  },
  {
   "cell_type": "code",
   "execution_count": 137,
   "metadata": {},
   "outputs": [],
   "source": [
    "# PL's são compostos de múltiplas sentenças, por isso a análise de sentenças é feita só para este corpus\n",
    "if DIR==\"./dados-categorias/PLs/\" or DIR==\"./dados-tipos/PLs/\":\n",
    "    # Análise do número de sentenças por projeto de lei\n",
    "    tamanhos_pl = []\n",
    "    for f in all_files:\n",
    "        d = process_conll_file(f)\n",
    "        tamanhos_pl.append(len(d))\n",
    "    plt.boxplot(tamanhos_pl, labels=[\"\"])\n",
    "    plt.show()\n",
    "\n",
    "    # Estimação pontual do tamanho médio de uma sentença de um projeto de lei\n",
    "    media_pl = np.mean(tamanhos_pl)\n",
    "    std_pl = np.std(tamanhos_pl)\n",
    "    z_alpha = 1.96\n",
    "    rng = (z_alpha * std_sent) / np.sqrt(len(tamanhos_pl))\n",
    "    print(f\"Número Médio de Sentenças por Projeto de Lei: {media_pl}\")\n",
    "    print(f\"Intervalo de Confiança (alpha = 5%): {(media_pl-rng, media_pl+rng)}\")\n",
    "else:\n",
    "    None"
   ]
  },
  {
   "cell_type": "code",
   "execution_count": 138,
   "metadata": {},
   "outputs": [
    {
     "data": {
      "image/png": "[encoded data removed]",
      "text/plain": [
       "<Figure size 432x288 with 1 Axes>"
      ]
     },
     "metadata": {
      "needs_background": "light"
     },
     "output_type": "display_data"
    },
    {
     "name": "stdout",
     "output_type": "stream",
     "text": [
      "Número Médio de Tokens por sentença: 98.02658227848102\n",
      "Intervalo de Confiança (alpha = 5%): (91.75322491407445, 104.29993964288758)\n"
     ]
    }
   ],
   "source": [
    "# Análise do número de tokens por sentenças\n",
    "tamanhos_sent = []\n",
    "for d in all_data:\n",
    "    if len(d)>1:\n",
    "        tamanhos_sent.append(len(d))\n",
    "plt.boxplot(tamanhos_sent, labels=[\"\"])\n",
    "plt.show()\n",
    "\n",
    "# Estimação pontual do número médio de tokens por sentença\n",
    "media_sent = np.mean(tamanhos_sent)\n",
    "std_sent = np.std(tamanhos_sent)\n",
    "z_alpha = 1.96\n",
    "rng = (z_alpha * std_sent) / np.sqrt(len(tamanhos_sent))\n",
    "print(f\"Número Médio de Tokens por sentença: {media_sent}\")\n",
    "print(f\"Intervalo de Confiança (alpha = 5%): {(media_sent-rng, media_sent+rng)}\")"
   ]
  },
  {
   "cell_type": "code",
   "execution_count": 139,
   "metadata": {},
   "outputs": [],
   "source": [
    "all_pairs = to_list(all_data)\n",
    "all_words, all_tags = split_words_n_tags(all_pairs)"
   ]
  },
  {
   "cell_type": "code",
   "execution_count": 140,
   "metadata": {},
   "outputs": [
    {
     "data": {
      "text/plain": [
       "'Número de tokens no corpus: 77441'"
      ]
     },
     "execution_count": 140,
     "metadata": {},
     "output_type": "execute_result"
    }
   ],
   "source": [
    "f\"Número de tokens no corpus: {len(all_words)}\""
   ]
  },
  {
   "cell_type": "code",
   "execution_count": 141,
   "metadata": {},
   "outputs": [
    {
     "data": {
      "text/plain": [
       "'Tamanho do Vocabulário: 11053'"
      ]
     },
     "execution_count": 141,
     "metadata": {},
     "output_type": "execute_result"
    }
   ],
   "source": [
    "f\"Tamanho do Vocabulário: {len(set(all_words))}\""
   ]
  },
  {
   "cell_type": "code",
   "execution_count": 142,
   "metadata": {},
   "outputs": [],
   "source": [
    "# Daqui para cima não há diferença entre categorias e tipos"
   ]
  },
  {
   "cell_type": "code",
   "execution_count": 143,
   "metadata": {},
   "outputs": [],
   "source": [
    "# Remoção dos prefixos B- e I- das tags\n",
    "all_tags_limpo = []\n",
    "for tag in all_tags:\n",
    "    if tag==\"O\":\n",
    "        all_tags_limpo.append(tag)\n",
    "    elif tag.startswith(\"B-\") or tag.startswith(\"I-\"):\n",
    "        all_tags_limpo.append(tag[2:])\n",
    "    else:\n",
    "        continue"
   ]
  },
  {
   "cell_type": "code",
   "execution_count": 144,
   "metadata": {},
   "outputs": [
    {
     "data": {
      "text/plain": [
       "'Número de Tags: 18'"
      ]
     },
     "execution_count": 144,
     "metadata": {},
     "output_type": "execute_result"
    }
   ],
   "source": [
    "f\"Número de Tags: {len(set(all_tags_limpo))}\""
   ]
  },
  {
   "cell_type": "code",
   "execution_count": 145,
   "metadata": {},
   "outputs": [
    {
     "data": {
      "text/plain": [
       "Counter({'O': 68709,\n",
       "         'ORGgovernamental': 874,\n",
       "         'PRODUTOoutros': 754,\n",
       "         'LOCALconcreto': 378,\n",
       "         'DATA': 285,\n",
       "         'FUNDapelido': 491,\n",
       "         'FUNDlei': 3354,\n",
       "         'FUNDprojetodelei': 302,\n",
       "         'PESSOAindividual': 308,\n",
       "         'PESSOAcargo': 407,\n",
       "         'PRODUTOsistema': 86,\n",
       "         'PESSOAgrupocargo': 165,\n",
       "         'FUNDsolicitacaotrabalho': 231,\n",
       "         'EVENTO': 79,\n",
       "         'LOCALvirtual': 599,\n",
       "         'PRODUTOprograma': 158,\n",
       "         'ORGnaogovernamental': 257,\n",
       "         'ORGpartido': 4})"
      ]
     },
     "execution_count": 145,
     "metadata": {},
     "output_type": "execute_result"
    }
   ],
   "source": [
    "# Número absoluto de aparições de cada tag no corpus\n",
    "tag_hist = collections.Counter(all_tags_limpo)\n",
    "tag_hist"
   ]
  },
  {
   "cell_type": "code",
   "execution_count": 146,
   "metadata": {},
   "outputs": [
    {
     "name": "stdout",
     "output_type": "stream",
     "text": [
      "ORGpartido & 0.01\\%\\\\ \\hline\n",
      "EVENTO & 0.10\\%\\\\ \\hline\n",
      "PRODUTOsistema & 0.11\\%\\\\ \\hline\n",
      "PRODUTOprograma & 0.20\\%\\\\ \\hline\n",
      "PESSOAgrupocargo & 0.21\\%\\\\ \\hline\n",
      "FUNDsolicitacaotrabalho & 0.30\\%\\\\ \\hline\n",
      "ORGnaogovernamental & 0.33\\%\\\\ \\hline\n",
      "DATA & 0.37\\%\\\\ \\hline\n",
      "FUNDprojetodelei & 0.39\\%\\\\ \\hline\n",
      "PESSOAindividual & 0.40\\%\\\\ \\hline\n",
      "LOCALconcreto & 0.49\\%\\\\ \\hline\n",
      "PESSOAcargo & 0.53\\%\\\\ \\hline\n",
      "FUNDapelido & 0.63\\%\\\\ \\hline\n",
      "LOCALvirtual & 0.77\\%\\\\ \\hline\n",
      "PRODUTOoutros & 0.97\\%\\\\ \\hline\n",
      "ORGgovernamental & 1.13\\%\\\\ \\hline\n",
      "FUNDlei & 4.33\\%\\\\ \\hline\n",
      "O & 88.72\\%\\\\ \\hline\n",
      "\n",
      "\n",
      "Erro ao estimar a proporção (abordagem conservativa, alpha = 5%): 0.35%\n"
     ]
    }
   ],
   "source": [
    "# Estimação pontual das proporções de cada uma das tags (em latex)\n",
    "prop = {key:(val/sum(tag_hist.values())) * 100 for key, val in tag_hist.items()}\n",
    "prop = dict(sorted(prop.items(), key=lambda item: item[1]))\n",
    "for key, val in prop.items():\n",
    "    print(f\"{key} & {val:.2f}\\%\\\\\\\\ \\hline\")\n",
    "    \n",
    "eps = z_alpha * np.sqrt(1/(4*len(all_words)))\n",
    "print(f\"\\n\\nErro ao estimar a proporção (abordagem conservativa, alpha = 5%): {(eps * 100):.2f}%\")"
   ]
  },
  {
   "cell_type": "code",
   "execution_count": 147,
   "metadata": {},
   "outputs": [
    {
     "data": {
      "image/png": "[encoded data removed]",
      "text/plain": [
       "<Figure size 432x288 with 1 Axes>"
      ]
     },
     "metadata": {
      "needs_background": "light"
     },
     "output_type": "display_data"
    }
   ],
   "source": [
    "# Plot do número absoluto de aparições de cada uma das tags\n",
    "tag_hist.pop(\"O\")\n",
    "tag_hist = dict(sorted(tag_hist.items(), key=lambda item: item[1]))\n",
    "keys = tag_hist.keys()\n",
    "vals = tag_hist.values()\n",
    "\n",
    "fig, ax = plt.subplots()\n",
    "ax.barh(range(len(keys)), tag_hist.values())\n",
    "ax.set_yticks(range(len(keys)))\n",
    "ax.set_yticklabels(keys)\n",
    "plt.show()"
   ]
  }
 ],
 "metadata": {
  "kernelspec": {
   "display_name": "Python 3",
   "language": "python",
   "name": "python3"
  },
  "language_info": {
   "codemirror_mode": {
    "name": "ipython",
    "version": 3
   },
   "file_extension": ".py",
   "mimetype": "text/x-python",
   "name": "python",
   "nbconvert_exporter": "python",
   "pygments_lexer": "ipython3",
   "version": "3.8.10"
  }
 },
 "nbformat": 4,
 "nbformat_minor": 4
}
